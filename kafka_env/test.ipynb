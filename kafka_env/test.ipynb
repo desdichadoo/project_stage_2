{
 "cells": [
  {
   "cell_type": "code",
   "execution_count": 37,
   "metadata": {},
   "outputs": [],
   "source": [
    "from kafka import KafkaConsumer, KafkaProducer\n",
    "import logging\n",
    "import json\n",
    "import time\n",
    "from statistics import mean"
   ]
  },
  {
   "cell_type": "code",
   "execution_count": 9,
   "metadata": {},
   "outputs": [],
   "source": [
    "logging.basicConfig(level=logging.INFO)\n",
    "\n",
    "bootstrap_servers = 'localhost:9092'\n",
    "valid_data_topic = 'valid_data'\n",
    "clean_data_topic = 'clean_data'\n",
    "monitoring_topic = 'monitoring'\n",
    "\n",
    "sample_data = [{\n",
    "                'ts': '2023-06-15T00:00:00Z',\n",
    "                'station_id': 'station1',\n",
    "                'sensor0': 3.4,\n",
    "                'sensor1': 5.6,\n",
    "                'sensor2': 6.0,\n",
    "                'sensor3': 8.2\n",
    "            }]"
   ]
  },
  {
   "cell_type": "code",
   "execution_count": 6,
   "metadata": {},
   "outputs": [
    {
     "name": "stderr",
     "output_type": "stream",
     "text": [
      "INFO:kafka.conn:<BrokerConnection node_id=bootstrap-0 host=localhost:9092 <connecting> [IPv6 ('::1', 9092, 0, 0)]>: connecting to localhost:9092 [('::1', 9092, 0, 0) IPv6]\n",
      "INFO:kafka.conn:Probing node bootstrap-0 broker version\n",
      "INFO:kafka.conn:<BrokerConnection node_id=bootstrap-0 host=localhost:9092 <connecting> [IPv6 ('::1', 9092, 0, 0)]>: Connection complete.\n",
      "INFO:kafka.conn:Broker version identified as 2.5.0\n",
      "INFO:kafka.conn:Set configuration api_version=(2, 5, 0) to skip auto check_version requests on startup\n",
      "INFO:kafka.conn:<BrokerConnection node_id=0 host=localhost:9092 <connecting> [IPv6 ('::1', 9092, 0, 0)]>: connecting to localhost:9092 [('::1', 9092, 0, 0) IPv6]\n",
      "INFO:kafka.conn:<BrokerConnection node_id=0 host=localhost:9092 <connecting> [IPv6 ('::1', 9092, 0, 0)]>: Connection complete.\n",
      "INFO:kafka.conn:<BrokerConnection node_id=bootstrap-0 host=localhost:9092 <connected> [IPv6 ('::1', 9092, 0, 0)]>: Closing connection. \n",
      "INFO:kafka.conn:<BrokerConnection node_id=0 host=localhost:9092 <connected> [IPv6 ('::1', 9092, 0, 0)]>: Closing connection. \n"
     ]
    },
    {
     "name": "stdout",
     "output_type": "stream",
     "text": [
      "Sent: {'ts': '2023-06-16T00:00:00Z', 'station_id': 'station1', 'sensor0': 20.5, 'sensor1': 20.7, 'sensor2': 20.6, 'sensor3': 20.8}\n"
     ]
    },
    {
     "name": "stderr",
     "output_type": "stream",
     "text": [
      "INFO:kafka.conn:<BrokerConnection node_id=bootstrap-0 host=localhost:9092 <connecting> [IPv6 ('::1', 9092, 0, 0)]>: connecting to localhost:9092 [('::1', 9092, 0, 0) IPv6]\n",
      "INFO:kafka.conn:Probing node bootstrap-0 broker version\n",
      "INFO:kafka.conn:<BrokerConnection node_id=bootstrap-0 host=localhost:9092 <connecting> [IPv6 ('::1', 9092, 0, 0)]>: Connection complete.\n",
      "INFO:kafka.conn:Broker version identified as 2.5.0\n",
      "INFO:kafka.conn:Set configuration api_version=(2, 5, 0) to skip auto check_version requests on startup\n",
      "INFO:kafka.consumer.subscription_state:Updating subscribed topics to: ('clean_data',)\n",
      "INFO:kafka.consumer.subscription_state:Updated partition assignment: [TopicPartition(topic='clean_data', partition=0)]\n",
      "INFO:kafka.conn:<BrokerConnection node_id=0 host=localhost:9092 <connecting> [IPv6 ('::1', 9092, 0, 0)]>: connecting to localhost:9092 [('::1', 9092, 0, 0) IPv6]\n",
      "INFO:kafka.conn:<BrokerConnection node_id=0 host=localhost:9092 <connecting> [IPv6 ('::1', 9092, 0, 0)]>: Connection complete.\n",
      "INFO:kafka.conn:<BrokerConnection node_id=bootstrap-0 host=localhost:9092 <connected> [IPv6 ('::1', 9092, 0, 0)]>: Closing connection. \n"
     ]
    },
    {
     "name": "stdout",
     "output_type": "stream",
     "text": [
      "Starting consumer...\n",
      "Received: {'ts': '2023-06-16T00:00:00Z', 'station_id': 'station1', 'sensor0': 20.5, 'sensor1': 20.7, 'sensor2': 20.6, 'sensor3': 20.8}\n"
     ]
    }
   ],
   "source": [
    "kafka_producer = KafkaProducer(bootstrap_servers = bootstrap_servers,\n",
    "                               value_serializer=lambda x: json.dumps(x).encode('utf-8'))\n",
    "\n",
    "for data in sample_data:\n",
    "    kafka_producer.send(clean_data_topic, value=data)\n",
    "    print(f'Sent: {data}')\n",
    "\n",
    "kafka_producer.flush()\n",
    "kafka_producer.close()\n",
    "\n",
    "time.sleep(5)\n",
    "\n",
    "\n",
    "kafka_consumer = KafkaConsumer(clean_data_topic,\n",
    "                               bootstrap_servers = bootstrap_servers,\n",
    "                               value_deserializer=lambda x: json.loads(x.decode('utf-8')),\n",
    "                               auto_offset_reset='earliest',\n",
    "                                enable_auto_commit=False)\n",
    "\n",
    "print(\"Starting consumer...\")\n",
    "for message in kafka_consumer:\n",
    "    received_data = message.value\n",
    "    print(f\"Received: {received_data}\")"
   ]
  },
  {
   "cell_type": "code",
   "execution_count": 32,
   "metadata": {},
   "outputs": [],
   "source": [
    "my_test = {'ts': '2023-06-16T00:00:00Z', 'station_id': 'station1', 'sensor0': 5.4, 'sensor1': 20.7, 'sensor2': 1.2, 'sensor3': 20.8}"
   ]
  },
  {
   "cell_type": "code",
   "execution_count": 41,
   "metadata": {},
   "outputs": [],
   "source": [
    "sensors = ['sensor0','sensor1','sensor2','sensor3']"
   ]
  },
  {
   "cell_type": "code",
   "execution_count": 42,
   "metadata": {},
   "outputs": [],
   "source": [
    "new_list = [my_test[k] for k in sensors]"
   ]
  },
  {
   "cell_type": "code",
   "execution_count": 43,
   "metadata": {},
   "outputs": [],
   "source": [
    "new_list.sort()"
   ]
  },
  {
   "cell_type": "code",
   "execution_count": 58,
   "metadata": {},
   "outputs": [
    {
     "data": {
      "text/plain": [
       "[4.5, 4.6, 7.5, 7.6]"
      ]
     },
     "execution_count": 58,
     "metadata": {},
     "output_type": "execute_result"
    }
   ],
   "source": [
    "new_list"
   ]
  },
  {
   "cell_type": "code",
   "execution_count": 63,
   "metadata": {},
   "outputs": [],
   "source": [
    "def clean_data(sensors):\n",
    "    sensors = sorted(sensors)\n",
    "    diffs = [abs(sensors[i] - sensors[i+1]) for i in range(len(sensors)-1)]\n",
    "\n",
    "    if all(d < 2.0 for d in diffs):\n",
    "        return sum(sensors) / len(sensors), None\n",
    "    elif len([d for d in diffs if d >= 2.0]) == 1:\n",
    "        unreliable_sensor = sensors[diffs.index(max(diffs))]\n",
    "        reliable_sensors = [s for s in sensors if abs(s - unreliable_sensor) >= 2.0]\n",
    "        return sum(reliable_sensors) / len(reliable_sensors), 'UNRELIABLE_SENSOR_READING'\n",
    "    else:\n",
    "        return None, 'UNRELIABLE_ROW'"
   ]
  },
  {
   "cell_type": "code",
   "execution_count": 110,
   "metadata": {},
   "outputs": [],
   "source": [
    "def clean_data(sensors):\n",
    "    readings = sorted(sensors)\n",
    "    differences = [abs(readings[i] - readings[i + 1]) for i in range(len(readings) - 1)]\n",
    "    outlier_list = [readings[i] for i in range(len(readings) - 1) if abs(readings[i] - readings[i + 1]) > 2]\n",
    "\n",
    "    if all(diff < 2.0 for diff in differences):\n",
    "        return mean(readings), \"Reliable\"\n",
    "    elif (abs(readings[0] - readings[1]) > 2 and not abs(readings[3] - readings[2]) > 2) \\\n",
    "        or ((abs(readings[3] - readings[2]) > 2 and not abs(readings[0] - readings[1]) > 2)) :\n",
    "        readings = [set(readings) - set(outlier_list)]\n",
    "        return mean(readings.remove(outlier_list)), \"UnreliableSensorReading\"\n",
    "    elif (abs(readings[0] - readings[1]) > 2 and abs(readings[3] - readings[2]) > 2) or (abs(readings[2] - readings[1])):\n",
    "        return None, \"UnreliableRow\""
   ]
  },
  {
   "cell_type": "code",
   "execution_count": 132,
   "metadata": {},
   "outputs": [],
   "source": [
    "def clean_data(sensors):\n",
    "    readings = sorted(sensors)\n",
    "    differences = [abs(readings[i] - readings[i + 1]) for i in range(len(readings) - 1)]\n",
    "    outlier_list = [readings[i] for i in range(len(readings) - 1) if abs(readings[i] - readings[i + 1]) > 2]\n",
    "\n",
    "    if all(diff < 2.0 for diff in differences):\n",
    "        return mean(readings), \"Reliable\"\n",
    "    elif len(outlier_list) < 2 and len(outlier_list) > 0:\n",
    "        readings = [set(readings) - set(outlier_list)]\n",
    "        return mean(readings.remove(outlier_list)), \"UnreliableSensorReading\"\n",
    "    elif (abs(readings[0] - readings[1]) > 2 and abs(readings[3] - readings[2]) > 2) or (abs(readings[2] - readings[1])):\n",
    "        return None, \"UnreliableRow\""
   ]
  },
  {
   "cell_type": "code",
   "execution_count": 133,
   "metadata": {},
   "outputs": [],
   "source": [
    "new_list = [3.4, 5.6, 6.0, 8.2]"
   ]
  },
  {
   "cell_type": "code",
   "execution_count": 134,
   "metadata": {},
   "outputs": [
    {
     "data": {
      "text/plain": [
       "(None, 'UnreliableRow')"
      ]
     },
     "execution_count": 134,
     "metadata": {},
     "output_type": "execute_result"
    }
   ],
   "source": [
    "clean_data(new_list)"
   ]
  },
  {
   "cell_type": "code",
   "execution_count": 128,
   "metadata": {},
   "outputs": [],
   "source": [
    "new_test = [1.2,4.0,4.5,5.2]"
   ]
  },
  {
   "cell_type": "code",
   "execution_count": 116,
   "metadata": {},
   "outputs": [
    {
     "data": {
      "text/plain": [
       "[3.4, 6.0]"
      ]
     },
     "execution_count": 116,
     "metadata": {},
     "output_type": "execute_result"
    }
   ],
   "source": [
    "[new_list[i] for i in range(len(new_list) - 1) if abs(new_list[i] - new_list[i + 1]) > 2]\n"
   ]
  },
  {
   "cell_type": "code",
   "execution_count": null,
   "metadata": {},
   "outputs": [],
   "source": []
  }
 ],
 "metadata": {
  "kernelspec": {
   "display_name": "kafka_env",
   "language": "python",
   "name": "python3"
  },
  "language_info": {
   "codemirror_mode": {
    "name": "ipython",
    "version": 3
   },
   "file_extension": ".py",
   "mimetype": "text/x-python",
   "name": "python",
   "nbconvert_exporter": "python",
   "pygments_lexer": "ipython3",
   "version": "3.11.0"
  }
 },
 "nbformat": 4,
 "nbformat_minor": 2
}
